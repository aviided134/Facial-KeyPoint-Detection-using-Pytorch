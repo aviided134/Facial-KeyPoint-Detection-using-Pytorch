{
 "cells": [
  {
   "cell_type": "code",
   "execution_count": 889,
   "id": "3f3b12d1",
   "metadata": {},
   "outputs": [],
   "source": [
    "images = r'C:\\Users\\akand\\Downloads\\images\\\\'"
   ]
  },
  {
   "cell_type": "markdown",
   "id": "a5365b0f",
   "metadata": {},
   "source": [
    "#### Reading the csv file to know the location of features"
   ]
  },
  {
   "cell_type": "code",
   "execution_count": 890,
   "id": "8e25181a",
   "metadata": {
    "scrolled": true
   },
   "outputs": [
    {
     "data": {
      "text/html": [
       "<div>\n",
       "<style scoped>\n",
       "    .dataframe tbody tr th:only-of-type {\n",
       "        vertical-align: middle;\n",
       "    }\n",
       "\n",
       "    .dataframe tbody tr th {\n",
       "        vertical-align: top;\n",
       "    }\n",
       "\n",
       "    .dataframe thead th {\n",
       "        text-align: right;\n",
       "    }\n",
       "</style>\n",
       "<table border=\"1\" class=\"dataframe\">\n",
       "  <thead>\n",
       "    <tr style=\"text-align: right;\">\n",
       "      <th></th>\n",
       "      <th>filename</th>\n",
       "      <th>x1</th>\n",
       "      <th>y1</th>\n",
       "      <th>x2</th>\n",
       "      <th>y2</th>\n",
       "      <th>x3</th>\n",
       "      <th>y3</th>\n",
       "      <th>x4</th>\n",
       "      <th>y4</th>\n",
       "      <th>x5</th>\n",
       "      <th>...</th>\n",
       "      <th>x10</th>\n",
       "      <th>y10</th>\n",
       "      <th>x11</th>\n",
       "      <th>y11</th>\n",
       "      <th>x12</th>\n",
       "      <th>y12</th>\n",
       "      <th>x13</th>\n",
       "      <th>y13</th>\n",
       "      <th>x14</th>\n",
       "      <th>y14</th>\n",
       "    </tr>\n",
       "  </thead>\n",
       "  <tbody>\n",
       "    <tr>\n",
       "      <th>0</th>\n",
       "      <td>00000.jpg</td>\n",
       "      <td>51</td>\n",
       "      <td>51</td>\n",
       "      <td>127</td>\n",
       "      <td>60</td>\n",
       "      <td>169</td>\n",
       "      <td>65</td>\n",
       "      <td>203</td>\n",
       "      <td>52</td>\n",
       "      <td>68</td>\n",
       "      <td>...</td>\n",
       "      <td>193</td>\n",
       "      <td>84</td>\n",
       "      <td>156</td>\n",
       "      <td>144</td>\n",
       "      <td>92</td>\n",
       "      <td>174</td>\n",
       "      <td>140</td>\n",
       "      <td>180</td>\n",
       "      <td>168</td>\n",
       "      <td>179</td>\n",
       "    </tr>\n",
       "    <tr>\n",
       "      <th>1</th>\n",
       "      <td>00001.jpg</td>\n",
       "      <td>21</td>\n",
       "      <td>20</td>\n",
       "      <td>36</td>\n",
       "      <td>18</td>\n",
       "      <td>57</td>\n",
       "      <td>19</td>\n",
       "      <td>80</td>\n",
       "      <td>25</td>\n",
       "      <td>23</td>\n",
       "      <td>...</td>\n",
       "      <td>78</td>\n",
       "      <td>33</td>\n",
       "      <td>43</td>\n",
       "      <td>46</td>\n",
       "      <td>31</td>\n",
       "      <td>61</td>\n",
       "      <td>45</td>\n",
       "      <td>66</td>\n",
       "      <td>60</td>\n",
       "      <td>65</td>\n",
       "    </tr>\n",
       "    <tr>\n",
       "      <th>2</th>\n",
       "      <td>00002.jpg</td>\n",
       "      <td>23</td>\n",
       "      <td>116</td>\n",
       "      <td>39</td>\n",
       "      <td>83</td>\n",
       "      <td>47</td>\n",
       "      <td>57</td>\n",
       "      <td>56</td>\n",
       "      <td>19</td>\n",
       "      <td>36</td>\n",
       "      <td>...</td>\n",
       "      <td>62</td>\n",
       "      <td>31</td>\n",
       "      <td>91</td>\n",
       "      <td>86</td>\n",
       "      <td>106</td>\n",
       "      <td>122</td>\n",
       "      <td>115</td>\n",
       "      <td>100</td>\n",
       "      <td>121</td>\n",
       "      <td>81</td>\n",
       "    </tr>\n",
       "    <tr>\n",
       "      <th>3</th>\n",
       "      <td>00003.jpg</td>\n",
       "      <td>29</td>\n",
       "      <td>18</td>\n",
       "      <td>63</td>\n",
       "      <td>25</td>\n",
       "      <td>84</td>\n",
       "      <td>32</td>\n",
       "      <td>105</td>\n",
       "      <td>34</td>\n",
       "      <td>38</td>\n",
       "      <td>...</td>\n",
       "      <td>95</td>\n",
       "      <td>45</td>\n",
       "      <td>72</td>\n",
       "      <td>71</td>\n",
       "      <td>46</td>\n",
       "      <td>83</td>\n",
       "      <td>63</td>\n",
       "      <td>87</td>\n",
       "      <td>75</td>\n",
       "      <td>89</td>\n",
       "    </tr>\n",
       "    <tr>\n",
       "      <th>4</th>\n",
       "      <td>00004.jpg</td>\n",
       "      <td>31</td>\n",
       "      <td>53</td>\n",
       "      <td>76</td>\n",
       "      <td>44</td>\n",
       "      <td>107</td>\n",
       "      <td>38</td>\n",
       "      <td>136</td>\n",
       "      <td>33</td>\n",
       "      <td>40</td>\n",
       "      <td>...</td>\n",
       "      <td>129</td>\n",
       "      <td>49</td>\n",
       "      <td>111</td>\n",
       "      <td>105</td>\n",
       "      <td>72</td>\n",
       "      <td>137</td>\n",
       "      <td>106</td>\n",
       "      <td>132</td>\n",
       "      <td>126</td>\n",
       "      <td>121</td>\n",
       "    </tr>\n",
       "    <tr>\n",
       "      <th>...</th>\n",
       "      <td>...</td>\n",
       "      <td>...</td>\n",
       "      <td>...</td>\n",
       "      <td>...</td>\n",
       "      <td>...</td>\n",
       "      <td>...</td>\n",
       "      <td>...</td>\n",
       "      <td>...</td>\n",
       "      <td>...</td>\n",
       "      <td>...</td>\n",
       "      <td>...</td>\n",
       "      <td>...</td>\n",
       "      <td>...</td>\n",
       "      <td>...</td>\n",
       "      <td>...</td>\n",
       "      <td>...</td>\n",
       "      <td>...</td>\n",
       "      <td>...</td>\n",
       "      <td>...</td>\n",
       "      <td>...</td>\n",
       "      <td>...</td>\n",
       "    </tr>\n",
       "    <tr>\n",
       "      <th>5995</th>\n",
       "      <td>05995.jpg</td>\n",
       "      <td>22</td>\n",
       "      <td>31</td>\n",
       "      <td>41</td>\n",
       "      <td>25</td>\n",
       "      <td>80</td>\n",
       "      <td>25</td>\n",
       "      <td>100</td>\n",
       "      <td>25</td>\n",
       "      <td>30</td>\n",
       "      <td>...</td>\n",
       "      <td>97</td>\n",
       "      <td>42</td>\n",
       "      <td>69</td>\n",
       "      <td>70</td>\n",
       "      <td>47</td>\n",
       "      <td>92</td>\n",
       "      <td>58</td>\n",
       "      <td>95</td>\n",
       "      <td>75</td>\n",
       "      <td>89</td>\n",
       "    </tr>\n",
       "    <tr>\n",
       "      <th>5996</th>\n",
       "      <td>05996.jpg</td>\n",
       "      <td>31</td>\n",
       "      <td>37</td>\n",
       "      <td>39</td>\n",
       "      <td>37</td>\n",
       "      <td>59</td>\n",
       "      <td>28</td>\n",
       "      <td>98</td>\n",
       "      <td>17</td>\n",
       "      <td>36</td>\n",
       "      <td>...</td>\n",
       "      <td>109</td>\n",
       "      <td>34</td>\n",
       "      <td>84</td>\n",
       "      <td>70</td>\n",
       "      <td>70</td>\n",
       "      <td>104</td>\n",
       "      <td>87</td>\n",
       "      <td>106</td>\n",
       "      <td>90</td>\n",
       "      <td>104</td>\n",
       "    </tr>\n",
       "    <tr>\n",
       "      <th>5997</th>\n",
       "      <td>05997.jpg</td>\n",
       "      <td>21</td>\n",
       "      <td>33</td>\n",
       "      <td>41</td>\n",
       "      <td>33</td>\n",
       "      <td>83</td>\n",
       "      <td>30</td>\n",
       "      <td>100</td>\n",
       "      <td>28</td>\n",
       "      <td>47</td>\n",
       "      <td>...</td>\n",
       "      <td>119</td>\n",
       "      <td>44</td>\n",
       "      <td>86</td>\n",
       "      <td>78</td>\n",
       "      <td>55</td>\n",
       "      <td>114</td>\n",
       "      <td>75</td>\n",
       "      <td>114</td>\n",
       "      <td>94</td>\n",
       "      <td>111</td>\n",
       "    </tr>\n",
       "    <tr>\n",
       "      <th>5998</th>\n",
       "      <td>05998.jpg</td>\n",
       "      <td>8</td>\n",
       "      <td>13</td>\n",
       "      <td>17</td>\n",
       "      <td>10</td>\n",
       "      <td>30</td>\n",
       "      <td>10</td>\n",
       "      <td>36</td>\n",
       "      <td>10</td>\n",
       "      <td>11</td>\n",
       "      <td>...</td>\n",
       "      <td>36</td>\n",
       "      <td>15</td>\n",
       "      <td>28</td>\n",
       "      <td>25</td>\n",
       "      <td>18</td>\n",
       "      <td>36</td>\n",
       "      <td>27</td>\n",
       "      <td>35</td>\n",
       "      <td>34</td>\n",
       "      <td>34</td>\n",
       "    </tr>\n",
       "    <tr>\n",
       "      <th>5999</th>\n",
       "      <td>05999.jpg</td>\n",
       "      <td>9</td>\n",
       "      <td>8</td>\n",
       "      <td>17</td>\n",
       "      <td>8</td>\n",
       "      <td>27</td>\n",
       "      <td>8</td>\n",
       "      <td>35</td>\n",
       "      <td>8</td>\n",
       "      <td>10</td>\n",
       "      <td>...</td>\n",
       "      <td>37</td>\n",
       "      <td>16</td>\n",
       "      <td>25</td>\n",
       "      <td>24</td>\n",
       "      <td>17</td>\n",
       "      <td>34</td>\n",
       "      <td>24</td>\n",
       "      <td>33</td>\n",
       "      <td>32</td>\n",
       "      <td>32</td>\n",
       "    </tr>\n",
       "  </tbody>\n",
       "</table>\n",
       "<p>6000 rows × 29 columns</p>\n",
       "</div>"
      ],
      "text/plain": [
       "       filename  x1   y1   x2  y2   x3  y3   x4  y4  x5  ...  x10  y10  x11  \\\n",
       "0     00000.jpg  51   51  127  60  169  65  203  52  68  ...  193   84  156   \n",
       "1     00001.jpg  21   20   36  18   57  19   80  25  23  ...   78   33   43   \n",
       "2     00002.jpg  23  116   39  83   47  57   56  19  36  ...   62   31   91   \n",
       "3     00003.jpg  29   18   63  25   84  32  105  34  38  ...   95   45   72   \n",
       "4     00004.jpg  31   53   76  44  107  38  136  33  40  ...  129   49  111   \n",
       "...         ...  ..  ...  ...  ..  ...  ..  ...  ..  ..  ...  ...  ...  ...   \n",
       "5995  05995.jpg  22   31   41  25   80  25  100  25  30  ...   97   42   69   \n",
       "5996  05996.jpg  31   37   39  37   59  28   98  17  36  ...  109   34   84   \n",
       "5997  05997.jpg  21   33   41  33   83  30  100  28  47  ...  119   44   86   \n",
       "5998  05998.jpg   8   13   17  10   30  10   36  10  11  ...   36   15   28   \n",
       "5999  05999.jpg   9    8   17   8   27   8   35   8  10  ...   37   16   25   \n",
       "\n",
       "      y11  x12  y12  x13  y13  x14  y14  \n",
       "0     144   92  174  140  180  168  179  \n",
       "1      46   31   61   45   66   60   65  \n",
       "2      86  106  122  115  100  121   81  \n",
       "3      71   46   83   63   87   75   89  \n",
       "4     105   72  137  106  132  126  121  \n",
       "...   ...  ...  ...  ...  ...  ...  ...  \n",
       "5995   70   47   92   58   95   75   89  \n",
       "5996   70   70  104   87  106   90  104  \n",
       "5997   78   55  114   75  114   94  111  \n",
       "5998   25   18   36   27   35   34   34  \n",
       "5999   24   17   34   24   33   32   32  \n",
       "\n",
       "[6000 rows x 29 columns]"
      ]
     },
     "execution_count": 890,
     "metadata": {},
     "output_type": "execute_result"
    }
   ],
   "source": [
    "import pandas as pd\n",
    "import numpy as np\n",
    "import matplotlib.pyplot as plt\n",
    "file = pd.read_csv('gt.csv')\n",
    "file"
   ]
  },
  {
   "cell_type": "code",
   "execution_count": 891,
   "id": "fa728411",
   "metadata": {},
   "outputs": [
    {
     "name": "stdout",
     "output_type": "stream",
     "text": [
      "<class 'pandas.core.frame.DataFrame'>\n",
      "RangeIndex: 6000 entries, 0 to 5999\n",
      "Data columns (total 29 columns):\n",
      " #   Column    Non-Null Count  Dtype \n",
      "---  ------    --------------  ----- \n",
      " 0   filename  6000 non-null   object\n",
      " 1   x1        6000 non-null   int64 \n",
      " 2   y1        6000 non-null   int64 \n",
      " 3   x2        6000 non-null   int64 \n",
      " 4   y2        6000 non-null   int64 \n",
      " 5   x3        6000 non-null   int64 \n",
      " 6   y3        6000 non-null   int64 \n",
      " 7   x4        6000 non-null   int64 \n",
      " 8   y4        6000 non-null   int64 \n",
      " 9   x5        6000 non-null   int64 \n",
      " 10  y5        6000 non-null   int64 \n",
      " 11  x6        6000 non-null   int64 \n",
      " 12  y6        6000 non-null   int64 \n",
      " 13  x7        6000 non-null   int64 \n",
      " 14  y7        6000 non-null   int64 \n",
      " 15  x8        6000 non-null   int64 \n",
      " 16  y8        6000 non-null   int64 \n",
      " 17  x9        6000 non-null   int64 \n",
      " 18  y9        6000 non-null   int64 \n",
      " 19  x10       6000 non-null   int64 \n",
      " 20  y10       6000 non-null   int64 \n",
      " 21  x11       6000 non-null   int64 \n",
      " 22  y11       6000 non-null   int64 \n",
      " 23  x12       6000 non-null   int64 \n",
      " 24  y12       6000 non-null   int64 \n",
      " 25  x13       6000 non-null   int64 \n",
      " 26  y13       6000 non-null   int64 \n",
      " 27  x14       6000 non-null   int64 \n",
      " 28  y14       6000 non-null   int64 \n",
      "dtypes: int64(28), object(1)\n",
      "memory usage: 1.3+ MB\n"
     ]
    }
   ],
   "source": [
    "file.info()"
   ]
  },
  {
   "cell_type": "code",
   "execution_count": 892,
   "id": "e3dcab6f",
   "metadata": {},
   "outputs": [
    {
     "data": {
      "text/plain": [
       "Index(['filename', 'x1', 'y1', 'x2', 'y2', 'x3', 'y3', 'x4', 'y4', 'x5', 'y5',\n",
       "       'x6', 'y6', 'x7', 'y7', 'x8', 'y8', 'x9', 'y9', 'x10', 'y10', 'x11',\n",
       "       'y11', 'x12', 'y12', 'x13', 'y13', 'x14', 'y14'],\n",
       "      dtype='object')"
      ]
     },
     "execution_count": 892,
     "metadata": {},
     "output_type": "execute_result"
    }
   ],
   "source": [
    "file.columns"
   ]
  },
  {
   "cell_type": "code",
   "execution_count": 893,
   "id": "c78ab39c",
   "metadata": {},
   "outputs": [],
   "source": [
    "ix = file.columns\n",
    "filenames = file[ix[0]]\n",
    "feat_loc = np.array(file[ix[1:]])"
   ]
  },
  {
   "cell_type": "code",
   "execution_count": 894,
   "id": "b5170fd7",
   "metadata": {},
   "outputs": [
    {
     "data": {
      "text/plain": [
       "array([[ 51,  51, 127, ..., 180, 168, 179],\n",
       "       [ 21,  20,  36, ...,  66,  60,  65],\n",
       "       [ 23, 116,  39, ..., 100, 121,  81],\n",
       "       ...,\n",
       "       [ 21,  33,  41, ..., 114,  94, 111],\n",
       "       [  8,  13,  17, ...,  35,  34,  34],\n",
       "       [  9,   8,  17, ...,  33,  32,  32]], dtype=int64)"
      ]
     },
     "execution_count": 894,
     "metadata": {},
     "output_type": "execute_result"
    }
   ],
   "source": [
    "feat_loc"
   ]
  },
  {
   "cell_type": "code",
   "execution_count": 8,
   "id": "7d2f27bb",
   "metadata": {},
   "outputs": [
    {
     "data": {
      "text/plain": [
       "array([[ 51,  51],\n",
       "       [127,  60],\n",
       "       [169,  65],\n",
       "       [203,  52],\n",
       "       [ 68,  77],\n",
       "       [ 85,  75],\n",
       "       [110,  82],\n",
       "       [160,  87],\n",
       "       [171,  79],\n",
       "       [193,  84],\n",
       "       [156, 144],\n",
       "       [ 92, 174],\n",
       "       [140, 180],\n",
       "       [168, 179]], dtype=int64)"
      ]
     },
     "execution_count": 8,
     "metadata": {},
     "output_type": "execute_result"
    }
   ],
   "source": [
    "feat_loc[0].reshape(14,2)"
   ]
  },
  {
   "cell_type": "code",
   "execution_count": 895,
   "id": "5e35173e",
   "metadata": {},
   "outputs": [],
   "source": [
    "import skimage as sk\n",
    "new_size = 56\n",
    "m = len(feat_loc)\n",
    "X = np.zeros((m, new_size, new_size, 3))\n",
    "Y = np.zeros((m, 28))\n",
    "for i in range(m):\n",
    "    img = plt.imread(images + filenames[i])\n",
    "    RC = img.shape[:2]\n",
    "    H = np.array([[new_size / RC[0], 0], [0, new_size/RC[1]]])\n",
    "    new_feat_loc = np.dot(feat_loc[i].reshape(14,2), H)\n",
    "    \n",
    "    #Y[i] = new_feat_loc\n",
    "    Y[i]= new_feat_loc.reshape(1,-1)\n",
    "    image = sk.transform.resize(img, (new_size, new_size, 3))\n",
    "    X[i] = image\n",
    "    \n",
    "   # print(new_feat_loc)\n"
   ]
  },
  {
   "cell_type": "code",
   "execution_count": 896,
   "id": "d34ffab5",
   "metadata": {},
   "outputs": [],
   "source": [
    "m, pairs = feat_loc.shape\n",
    "feat_list = feat_loc.reshape(m, pairs//2, 2).tolist()"
   ]
  },
  {
   "cell_type": "code",
   "execution_count": 897,
   "id": "801c2b8c",
   "metadata": {},
   "outputs": [],
   "source": [
    "from skimage import transform \n",
    "from matplotlib.patches import Circle\n",
    " \n",
    "def plotfeatures(ax, RC, features = 14):\n",
    "    for i in range(features):\n",
    "        c = Circle((RC[i][0], RC[i][1]), radius = 1, color = 'red')\n",
    "        ax.add_patch(c)"
   ]
  },
  {
   "cell_type": "code",
   "execution_count": 898,
   "id": "a9730b2c",
   "metadata": {},
   "outputs": [],
   "source": [
    "xform = transfor(image = img, keypoints = feat_list[i])\n",
    "xform_img = xform['image']"
   ]
  },
  {
   "cell_type": "code",
   "execution_count": 899,
   "id": "9a4150ce",
   "metadata": {},
   "outputs": [],
   "source": [
    "import albumentations as A\n",
    "from albumentations.pytorch import ToTensorV2\n",
    "\n",
    "\n",
    "transfor = A.Compose(\n",
    "    [A.ShiftScaleRotate(shift_limit = 0.1,\n",
    "                       scale_limit = 0.1,\n",
    "                       rotate_limit = 20,\n",
    "                       p = 0.5)\n",
    "    ],\n",
    "    keypoint_params=A.KeypointParams(format='xy'))"
   ]
  },
  {
   "cell_type": "code",
   "execution_count": 901,
   "id": "7cf1ccbf",
   "metadata": {},
   "outputs": [
    {
     "data": {
      "text/plain": [
       "<Figure size 640x480 with 0 Axes>"
      ]
     },
     "metadata": {},
     "output_type": "display_data"
    },
    {
     "data": {
      "image/png": "[encoded data removed]",
      "text/plain": [
       "<Figure size 640x480 with 1 Axes>"
      ]
     },
     "metadata": {},
     "output_type": "display_data"
    },
    {
     "data": {
      "text/plain": [
       "<Figure size 640x480 with 0 Axes>"
      ]
     },
     "metadata": {},
     "output_type": "display_data"
    },
    {
     "data": {
      "image/png": "[encoded data removed]",
      "text/plain": [
       "<Figure size 640x480 with 1 Axes>"
      ]
     },
     "metadata": {},
     "output_type": "display_data"
    }
   ],
   "source": [
    "i = 4565\n",
    "img = plt.imread(images + filenames[i])\n",
    "\n",
    "plt.figure()\n",
    "fig, ax = plt.subplots()\n",
    "plt.imshow(img)\n",
    "plotfeatures(ax, feat_list[i])\n",
    "\n",
    "#print(feat_list[i])\n",
    "#print(img.shape)\n",
    "xform = transfor(image = img, keypoints = feat_list[i])\n",
    "xform_img = xform['image']\n",
    "xform_keypoints = xform['keypoints']\n",
    "#print(xform_keypoints)\n",
    "\n",
    "plt.figure()\n",
    "fig, ax = plt.subplots()\n",
    "plt.imshow(xform_img)\n",
    "plotfeatures(ax, xform_keypoints)\n"
   ]
  },
  {
   "cell_type": "markdown",
   "id": "125780d1",
   "metadata": {},
   "source": [
    "#### As we can see in above figures, with transforming the image, the location of figure has also changed. This is due to the albumentation in Pytorch"
   ]
  },
  {
   "cell_type": "code",
   "execution_count": 902,
   "id": "37f6de16",
   "metadata": {},
   "outputs": [],
   "source": [
    "import torch\n",
    "import torch.nn as nn\n",
    "import torch.nn.functional as F\n",
    "from torch.utils.data import DataLoader, TensorDataset, random_split\n",
    "import torch.optim as optim"
   ]
  },
  {
   "cell_type": "code",
   "execution_count": 903,
   "id": "a8ce9045",
   "metadata": {},
   "outputs": [
    {
     "data": {
      "text/plain": [
       "<torch._C.Generator at 0x1bfc835b5b0>"
      ]
     },
     "execution_count": 903,
     "metadata": {},
     "output_type": "execute_result"
    }
   ],
   "source": [
    "device = 'cuda' if torch.cuda.is_available() else 'cpu'\n",
    "\n",
    "seed = 40\n",
    "np.random.seed(seed)\n",
    "torch.manual_seed(seed)"
   ]
  },
  {
   "cell_type": "code",
   "execution_count": 904,
   "id": "349ff4f2",
   "metadata": {
    "scrolled": true
   },
   "outputs": [],
   "source": [
    "datax = torch.from_numpy(X).to(device)\n",
    "datay = torch.from_numpy(Y).to(device)\n",
    "data = TensorDataset(datax, datay)"
   ]
  },
  {
   "cell_type": "code",
   "execution_count": 905,
   "id": "d62efd7c",
   "metadata": {},
   "outputs": [
    {
     "data": {
      "text/plain": [
       "(3840, 960, 1200)"
      ]
     },
     "execution_count": 905,
     "metadata": {},
     "output_type": "execute_result"
    }
   ],
   "source": [
    "# splitting the data into test and train\n",
    "train_split = 0.8\n",
    "valid_split = 0.2\n",
    "\n",
    "\n",
    "# here, testdata = 0.2 * total\n",
    "#traindata = 0.8 * total, but it is further divided into traindataset and validdata, so traindataset = 0.8 * traindata\n",
    "\n",
    "samples = len(data)\n",
    "samples_train = int(train_split*samples) # totalsamples * 0.8\n",
    "samples_test = samples - samples_train   # total - samples_train\n",
    "samples_traindata = int(samples_train*(1-valid_split))  # this is totalsamples * 0.8 * 0.8\n",
    "samples_valid = samples_train - samples_traindata \n",
    "\n",
    "train_dataset, test_data = random_split(data, [samples_train, samples_test])\n",
    "train_data, valid_data = random_split(train_dataset, [samples_traindata, samples_valid])\n",
    "\n",
    "len(train_data), len(valid_data), len(test_data)"
   ]
  },
  {
   "cell_type": "code",
   "execution_count": 906,
   "id": "9786947b",
   "metadata": {},
   "outputs": [
    {
     "data": {
      "text/plain": [
       "torch.Size([3840, 56, 56, 3])"
      ]
     },
     "execution_count": 906,
     "metadata": {},
     "output_type": "execute_result"
    }
   ],
   "source": [
    "train_data[:][0].shape"
   ]
  },
  {
   "cell_type": "markdown",
   "id": "c44d2018",
   "metadata": {},
   "source": [
    "#### There are a total of 3840 training samples, 960 validation samples and 1200 of test samples"
   ]
  },
  {
   "cell_type": "code",
   "execution_count": 907,
   "id": "b764b8ad",
   "metadata": {},
   "outputs": [],
   "source": [
    "batch_size = 128\n",
    "train_loader = DataLoader(dataset = train_data, batch_size = batch_size, shuffle = True)\n",
    "valid_loader = DataLoader(dataset = valid_data, batch_size = batch_size, shuffle = True)\n",
    "test_loader = DataLoader(dataset = test_data, batch_size = batch_size, shuffle = True)"
   ]
  },
  {
   "cell_type": "code",
   "execution_count": 908,
   "id": "de37368b",
   "metadata": {},
   "outputs": [],
   "source": [
    "import torch.nn as nn\n",
    "import torch.nn.functional as F\n",
    "from torchvision import models\n",
    "from  torchsummary import summary\n",
    "\n",
    "class Facial_detection(nn.Module):\n",
    "    def __init__(self, dropout_prob = 0.5):\n",
    "        super(Facial_detection, self).__init__()\n",
    "        self.conv1 = nn.Conv2d(in_channels = 3, out_channels = 56, kernel_size = (3,3), padding = (1,1))  # 3*56*56 to 56*56*56\n",
    "        self.relu1 = nn.ReLU()\n",
    "        self.maxp1 = nn.MaxPool2d(kernel_size = (2,2), stride = 2)  # 56*56*56 to 56*28*28\n",
    "\n",
    "        self.conv2 = nn.Conv2d(in_channels = 56, out_channels = 112, kernel_size = (3,3), padding = (1,1)) # 56*28*28 to 112*28*28\n",
    "        self.relu2 = nn.ReLU()\n",
    "        self.maxp2 = nn.MaxPool2d(kernel_size = (2,2), stride = 2)  # 112*28*28 to 112*14*14\n",
    "\n",
    "        self.conv3 = nn.Conv2d(in_channels = 112, out_channels = 224, kernel_size = (3,3), padding = (1,1)) # 112*14*14 to 224*14*14\n",
    "        self.relu3 = nn.ReLU()\n",
    "        self.maxp3 = nn.MaxPool2d(kernel_size = (2,2), stride = 2)  # 224*14*14 to 224*7*7\n",
    "\n",
    "        self.flat = nn.Flatten()\n",
    "        self.fc = nn.Linear(in_features = (224*7*7), out_features = 100)\n",
    "        self.relu4 = nn.ReLU()\n",
    "        self.dropout = nn.Dropout(p = 0.5)\n",
    "\n",
    "        self.fc2 = nn.Linear(in_features = 100, out_features = 14 * 2)\n",
    "        \n",
    "\n",
    "    def forward(self,x):\n",
    "        L1 = self.maxp1(self.relu1(self.conv1(x)))\n",
    "        L2 = self.maxp2(self.relu2(self.conv2(L1)))\n",
    "        L3 = self.maxp3(self.relu3(self.conv3(L2)))\n",
    "        L4 = self.relu4(self.fc(self.flat(L3)))\n",
    "        L5 = self.dropout(L4)\n",
    "\n",
    "        out = (self.fc2(L5))\n",
    "        \n",
    "        out = out.view(out.size(0), 14, 2)\n",
    "\n",
    "        return out\n",
    "\n"
   ]
  },
  {
   "cell_type": "code",
   "execution_count": 909,
   "id": "eead1ccc",
   "metadata": {},
   "outputs": [
    {
     "name": "stdout",
     "output_type": "stream",
     "text": [
      "Facial_detection(\n",
      "  (conv1): Conv2d(3, 56, kernel_size=(3, 3), stride=(1, 1), padding=(1, 1))\n",
      "  (relu1): ReLU()\n",
      "  (maxp1): MaxPool2d(kernel_size=(2, 2), stride=2, padding=0, dilation=1, ceil_mode=False)\n",
      "  (conv2): Conv2d(56, 112, kernel_size=(3, 3), stride=(1, 1), padding=(1, 1))\n",
      "  (relu2): ReLU()\n",
      "  (maxp2): MaxPool2d(kernel_size=(2, 2), stride=2, padding=0, dilation=1, ceil_mode=False)\n",
      "  (conv3): Conv2d(112, 224, kernel_size=(3, 3), stride=(1, 1), padding=(1, 1))\n",
      "  (relu3): ReLU()\n",
      "  (maxp3): MaxPool2d(kernel_size=(2, 2), stride=2, padding=0, dilation=1, ceil_mode=False)\n",
      "  (flat): Flatten(start_dim=1, end_dim=-1)\n",
      "  (fc): Linear(in_features=10976, out_features=100, bias=True)\n",
      "  (relu4): ReLU()\n",
      "  (dropout): Dropout(p=0.5, inplace=False)\n",
      "  (fc2): Linear(in_features=100, out_features=28, bias=True)\n",
      ")\n"
     ]
    }
   ],
   "source": [
    "model = Facial_detection(dropout_prob = 0.5)\n",
    "model = model.float()\n",
    "model  = model.to(device)\n",
    "print(model)"
   ]
  },
  {
   "cell_type": "code",
   "execution_count": 910,
   "id": "09ab19b6",
   "metadata": {},
   "outputs": [
    {
     "name": "stdout",
     "output_type": "stream",
     "text": [
      "----------------------------------------------------------------\n",
      "        Layer (type)               Output Shape         Param #\n",
      "================================================================\n",
      "            Conv2d-1           [-1, 56, 56, 56]           1,568\n",
      "              ReLU-2           [-1, 56, 56, 56]               0\n",
      "         MaxPool2d-3           [-1, 56, 28, 28]               0\n",
      "            Conv2d-4          [-1, 112, 28, 28]          56,560\n",
      "              ReLU-5          [-1, 112, 28, 28]               0\n",
      "         MaxPool2d-6          [-1, 112, 14, 14]               0\n",
      "            Conv2d-7          [-1, 224, 14, 14]         226,016\n",
      "              ReLU-8          [-1, 224, 14, 14]               0\n",
      "         MaxPool2d-9            [-1, 224, 7, 7]               0\n",
      "          Flatten-10                [-1, 10976]               0\n",
      "           Linear-11                  [-1, 100]       1,097,700\n",
      "             ReLU-12                  [-1, 100]               0\n",
      "          Dropout-13                  [-1, 100]               0\n",
      "           Linear-14                   [-1, 28]           2,828\n",
      "================================================================\n",
      "Total params: 1,384,672\n",
      "Trainable params: 1,384,672\n",
      "Non-trainable params: 0\n",
      "----------------------------------------------------------------\n",
      "Input size (MB): 0.04\n",
      "Forward/backward pass size (MB): 5.36\n",
      "Params size (MB): 5.28\n",
      "Estimated Total Size (MB): 10.68\n",
      "----------------------------------------------------------------\n"
     ]
    }
   ],
   "source": [
    "summary(model, (3,56,56))"
   ]
  },
  {
   "cell_type": "markdown",
   "id": "8ea731c2",
   "metadata": {},
   "source": [
    "#### I have used the horizontal flip for the augmentation."
   ]
  },
  {
   "cell_type": "code",
   "execution_count": 947,
   "id": "67aeb0df",
   "metadata": {},
   "outputs": [],
   "source": [
    "import albumentations as A\n",
    "from albumentations.pytorch import ToTensorV2\n",
    "\n",
    "\n",
    "transfor = A.Compose([\n",
    "    A.HorizontalFlip(),\n",
    "   # A.Rotate(limit = 5, p = 1),\n",
    "     ToTensorV2(),\n",
    "    ],\n",
    "    keypoint_params=A.KeypointParams(format='xy'))"
   ]
  },
  {
   "cell_type": "markdown",
   "id": "2ef73ca2",
   "metadata": {},
   "source": [
    "### The clip and round keypoints is done in order to limit the position of the augmented images with the boundary"
   ]
  },
  {
   "cell_type": "code",
   "execution_count": 948,
   "id": "9e35a4c6",
   "metadata": {},
   "outputs": [],
   "source": [
    "def clip_and_round_keypoints(keypoints, image_width, image_height):\n",
    "    clipped_and_rounded_keypoints = []\n",
    "    for x, y, *rest in keypoints:\n",
    "        x = max(0, min(round(x), image_width - 1))\n",
    "        y = max(0, min(round(y), image_height - 1))\n",
    "        clipped_and_rounded_keypoints.append([x, y, *rest])\n",
    "    return clipped_and_rounded_keypoints"
   ]
  },
  {
   "cell_type": "code",
   "execution_count": 949,
   "id": "7b57b8a5",
   "metadata": {},
   "outputs": [],
   "source": [
    "import torch\n",
    "\n",
    "def augmentation_total(X, Y):\n",
    "    augmented_images = []\n",
    "    augmented_keypoints = []\n",
    "\n",
    "    m, pairs = Y.shape\n",
    "    feat_list = Y.reshape(m, pairs // 2, 2).tolist()\n",
    "\n",
    "    X = X.numpy()\n",
    "\n",
    "    for i in range(128):\n",
    "        clipped_and_rounded_keypoints = clip_and_round_keypoints(feat_list[i], 56, 56)\n",
    "        xform = transfor(image=X[i], keypoints=clipped_and_rounded_keypoints)\n",
    "\n",
    "        xform_img = xform['image']\n",
    "        xform_keypoints = xform['keypoints']\n",
    "\n",
    "        augmented_images.append(xform_img)\n",
    "        augmented_keypoints.append(xform_keypoints)\n",
    "\n",
    "    augmented_images = torch.stack(augmented_images)  \n",
    "    Yt = torch.Tensor(augmented_keypoints)  \n",
    "\n",
    "    return augmented_images, Yt\n"
   ]
  },
  {
   "cell_type": "code",
   "execution_count": 950,
   "id": "c3fb9112",
   "metadata": {},
   "outputs": [],
   "source": [
    "def train(dataloader, model, loss_fn, optimizer):\n",
    "\n",
    "    num_batches = len(dataloader)\n",
    "    loss_t = 0\n",
    "    model.train()\n",
    "\n",
    "    for batch, (X,Y) in enumerate(dataloader):\n",
    "        \n",
    "        X = X.float().to(device)\n",
    "        Y = Y.float().to(device)\n",
    "      \n",
    "        \n",
    "        X_total, Y_total = augmentation_total(X, Y)\n",
    "       \n",
    "        \n",
    "        Yhat = model(X_total)\n",
    "        \n",
    "        loss = loss_fn(Yhat, Y_total)\n",
    "        loss_t += loss.item()\n",
    "        optimizer.zero_grad()\n",
    "        loss.backward()\n",
    "        optimizer.step()\n",
    "\n",
    "    print(f\"batch: {batch+1:>5d}/{num_batches},\"\n",
    "          f\"Avg_loss: {loss_t/(batch+1):>7f},\")\n",
    "          #f\"{metric_name}: {metric(Yhat,Y):5f}\\n\", end='\\r')\n",
    "\n",
    "    return loss_t"
   ]
  },
  {
   "cell_type": "code",
   "execution_count": 951,
   "id": "6d9cafc5",
   "metadata": {},
   "outputs": [],
   "source": [
    "def test(dataloader, model, loss_fn):\n",
    "    size = len(dataloader.dataset)\n",
    "    num_batches = len(dataloader)\n",
    "    test_loss = 0\n",
    "    with torch.no_grad():\n",
    "        for X, Y in dataloader:\n",
    "            X,Y = X.float().to(device), Y.to(device)\n",
    "            X = torch.permute(X, (0,3,2,1))\n",
    "            Yhat = model(X)\n",
    "            m, pairs = Y.shape\n",
    "            Y = Y.reshape(m, pairs // 2, 2)\n",
    "            #print(Yhat.shape)\n",
    "            #print(Y.shape)\n",
    "            test_loss += loss_fn(Yhat, Y).item()\n",
    "            #metric_T += metric(Yhat, Y)* len(Y)\n",
    "    test_loss /= num_batches\n",
    "    #metric_T /= size\n",
    "    print(f\"loss: {test_loss:>7f}\")\n",
    "    \n",
    "    return Yhat\n"
   ]
  },
  {
   "cell_type": "code",
   "execution_count": 956,
   "id": "d7658f1b",
   "metadata": {},
   "outputs": [
    {
     "name": "stdout",
     "output_type": "stream",
     "text": [
      "\n",
      "Epoch 1\n",
      "batch:    30/30,Avg_loss: 7.676228,\n",
      "Validation:\n",
      "loss: 6.930833\n",
      "\n",
      "Epoch 2\n",
      "batch:    30/30,Avg_loss: 6.766656,\n",
      "Validation:\n",
      "loss: 7.041230\n",
      "\n",
      "Epoch 3\n",
      "batch:    30/30,Avg_loss: 6.452805,\n",
      "Validation:\n",
      "loss: 7.119755\n",
      "\n",
      "Epoch 4\n",
      "batch:    30/30,Avg_loss: 6.317386,\n",
      "Validation:\n",
      "loss: 6.302869\n",
      "\n",
      "Epoch 5\n",
      "batch:    30/30,Avg_loss: 6.231299,\n",
      "Validation:\n",
      "loss: 6.100963\n",
      "\n",
      "Epoch 6\n",
      "batch:    30/30,Avg_loss: 6.166521,\n",
      "Validation:\n",
      "loss: 6.261534\n",
      "\n",
      "Epoch 7\n",
      "batch:    30/30,Avg_loss: 6.164027,\n",
      "Validation:\n",
      "loss: 6.266469\n",
      "\n",
      "Epoch 8\n",
      "batch:    30/30,Avg_loss: 6.126162,\n",
      "Validation:\n",
      "loss: 6.682374\n",
      "\n",
      "Epoch 9\n",
      "batch:    30/30,Avg_loss: 6.164663,\n",
      "Validation:\n",
      "loss: 6.491941\n",
      "\n",
      "Epoch 10\n",
      "batch:    30/30,Avg_loss: 6.109641,\n",
      "Validation:\n",
      "loss: 6.182007\n",
      "\n",
      "Epoch 11\n",
      "batch:    30/30,Avg_loss: 6.223731,\n",
      "Validation:\n",
      "loss: 6.851299\n",
      "\n",
      "Epoch 12\n",
      "batch:    30/30,Avg_loss: 6.114481,\n",
      "Validation:\n",
      "loss: 5.928749\n",
      "\n",
      "Epoch 13\n",
      "batch:    30/30,Avg_loss: 6.059587,\n",
      "Validation:\n",
      "loss: 6.709786\n",
      "\n",
      "Epoch 14\n",
      "batch:    30/30,Avg_loss: 6.101822,\n",
      "Validation:\n",
      "loss: 6.689616\n",
      "\n",
      "Epoch 15\n",
      "batch:    30/30,Avg_loss: 6.049922,\n",
      "Validation:\n",
      "loss: 6.689334\n",
      "\n",
      "Epoch 16\n",
      "batch:    30/30,Avg_loss: 6.036281,\n",
      "Validation:\n",
      "loss: 6.213876\n",
      "\n",
      "Epoch 17\n",
      "batch:    30/30,Avg_loss: 6.039620,\n",
      "Validation:\n",
      "loss: 6.488631\n",
      "\n",
      "Epoch 18\n",
      "batch:    30/30,Avg_loss: 6.060177,\n",
      "Validation:\n",
      "loss: 6.191266\n",
      "\n",
      "Epoch 19\n",
      "batch:    30/30,Avg_loss: 6.053116,\n",
      "Validation:\n",
      "loss: 6.328078\n",
      "\n",
      "Epoch 20\n",
      "batch:    30/30,Avg_loss: 6.024805,\n",
      "Validation:\n",
      "loss: 6.721422\n",
      "\n",
      "Testing:\n",
      "loss: 6.657049\n",
      "Done!\n"
     ]
    }
   ],
   "source": [
    "optimizer = optim.Adam(model.parameters(), lr = 0.001, weight_decay = 1e-5)\n",
    "loss_fn = nn.L1Loss()\n",
    "\n",
    "epochs = 20\n",
    "for t in range(epochs):\n",
    "    print(f\"\\nEpoch {t+1}\")\n",
    "    train(train_loader, model, loss_fn, optimizer)\n",
    "    print('Validation:')\n",
    "    valid_Y = test (valid_loader, model, loss_fn)\n",
    "print('\\nTesting:')\n",
    "test_Y = test (test_loader, model, loss_fn)\n",
    "print(\"Done!\")"
   ]
  },
  {
   "cell_type": "markdown",
   "id": "1d820e77",
   "metadata": {},
   "source": [
    "#### We can see the loss is decreasing with the epochs."
   ]
  },
  {
   "cell_type": "markdown",
   "id": "f0f1d69b",
   "metadata": {},
   "source": [
    "### In order to test the effectiveness, I have taken the last image of the test loader, and plotted both the original and the predicted points in the image."
   ]
  },
  {
   "cell_type": "code",
   "execution_count": 957,
   "id": "a1dc395d",
   "metadata": {},
   "outputs": [],
   "source": [
    "example1 = test_loader.dataset[-1][1]\n",
    "example1 = example1.reshape( (14, 2))"
   ]
  },
  {
   "cell_type": "code",
   "execution_count": 958,
   "id": "63025d16",
   "metadata": {},
   "outputs": [],
   "source": [
    "pred1 = test_loader.dataset[-1][1]\n",
    "pred1 = pred1.reshape((14,2))"
   ]
  },
  {
   "cell_type": "code",
   "execution_count": 959,
   "id": "30c0bcb4",
   "metadata": {},
   "outputs": [
    {
     "data": {
      "text/plain": [
       "<Figure size 640x480 with 0 Axes>"
      ]
     },
     "metadata": {},
     "output_type": "display_data"
    },
    {
     "data": {
      "image/png": "[encoded data removed]",
      "text/plain": [
       "<Figure size 640x480 with 1 Axes>"
      ]
     },
     "metadata": {},
     "output_type": "display_data"
    },
    {
     "data": {
      "text/plain": [
       "<Figure size 640x480 with 0 Axes>"
      ]
     },
     "metadata": {},
     "output_type": "display_data"
    },
    {
     "data": {
      "image/png": "[encoded data removed]",
      "text/plain": [
       "<Figure size 640x480 with 1 Axes>"
      ]
     },
     "metadata": {},
     "output_type": "display_data"
    }
   ],
   "source": [
    "\n",
    "img = test_loader.dataset[-1][0]\n",
    "plt.figure()\n",
    "fig, ax = plt.subplots()\n",
    "plt.imshow(img)\n",
    "plotfeatures(ax, example1)\n",
    "\n",
    "\n",
    "\n",
    "plt.figure()\n",
    "fig, ax = plt.subplots()\n",
    "plt.imshow(img)\n",
    "plotfeatures(ax, pred1)\n"
   ]
  },
  {
   "cell_type": "code",
   "execution_count": null,
   "id": "f3294dd3",
   "metadata": {},
   "outputs": [],
   "source": []
  }
 ],
 "metadata": {
  "kernelspec": {
   "display_name": "Python 3 (ipykernel)",
   "language": "python",
   "name": "python3"
  },
  "language_info": {
   "codemirror_mode": {
    "name": "ipython",
    "version": 3
   },
   "file_extension": ".py",
   "mimetype": "text/x-python",
   "name": "python",
   "nbconvert_exporter": "python",
   "pygments_lexer": "ipython3",
   "version": "3.9.13"
  }
 },
 "nbformat": 4,
 "nbformat_minor": 5
}
